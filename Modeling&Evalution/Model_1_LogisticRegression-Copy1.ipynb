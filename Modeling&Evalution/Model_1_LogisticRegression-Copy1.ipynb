{
 "cells": [
  {
   "cell_type": "code",
   "execution_count": null,
   "id": "898a3302",
   "metadata": {},
   "outputs": [
    {
     "name": "stdout",
     "output_type": "stream",
     "text": [
      "Requirement already satisfied: google-cloud in /opt/conda/lib/python3.7/site-packages (0.34.0)\n",
      "Note: you may need to restart the kernel to use updated packages.\n",
      "Requirement already satisfied: pandas in /opt/conda/lib/python3.7/site-packages (1.2.4)\n",
      "Requirement already satisfied: python-dateutil>=2.7.3 in /opt/conda/lib/python3.7/site-packages (from pandas) (2.8.1)\n",
      "Requirement already satisfied: pytz>=2017.3 in /opt/conda/lib/python3.7/site-packages (from pandas) (2021.1)\n",
      "Requirement already satisfied: numpy>=1.16.5 in /opt/conda/lib/python3.7/site-packages (from pandas) (1.19.5)\n",
      "Requirement already satisfied: six>=1.5 in /opt/conda/lib/python3.7/site-packages (from python-dateutil>=2.7.3->pandas) (1.16.0)\n",
      "Note: you may need to restart the kernel to use updated packages.\n",
      "Requirement already satisfied: scikit-learn in /opt/conda/lib/python3.7/site-packages (0.20.3)\n",
      "Collecting scikit-learn\n",
      "  Using cached scikit_learn-0.24.2-cp37-cp37m-manylinux2010_x86_64.whl (22.3 MB)\n",
      "Requirement already satisfied: numpy>=1.13.3 in /opt/conda/lib/python3.7/site-packages (from scikit-learn) (1.19.5)\n",
      "Requirement already satisfied: joblib>=0.11 in /opt/conda/lib/python3.7/site-packages (from scikit-learn) (1.0.1)\n",
      "Requirement already satisfied: scipy>=0.19.1 in /opt/conda/lib/python3.7/site-packages (from scikit-learn) (1.6.3)\n",
      "Requirement already satisfied: threadpoolctl>=2.0.0 in /opt/conda/lib/python3.7/site-packages (from scikit-learn) (2.1.0)\n",
      "Installing collected packages: scikit-learn\n",
      "  Attempting uninstall: scikit-learn\n",
      "    Found existing installation: scikit-learn 0.20.3\n",
      "    Uninstalling scikit-learn-0.20.3:\n",
      "      Successfully uninstalled scikit-learn-0.20.3\n"
     ]
    }
   ],
   "source": [
    "%pip install google-cloud\n",
    "%pip install pandas\n",
    "%pip install -U scikit-learn\n",
    "\n",
    "from sklearn import metrics\n",
    "from sklearn.metrics import confusion_matrix, plot_confusion_matrix,classification_report\n",
    "\n",
    "from sklearn.linear_model import LogisticRegression\n",
    "\n",
    "import math\n",
    "from pprint import pprint\n",
    "import pandas as pd\n",
    "import seaborn as sns\n",
    "import numpy as np\n",
    "import matplotlib.pyplot as plt\n",
    "\n",
    "%matplotlib inline\n",
    "%config InlineBackend.figure_format = 'retina'\n",
    "\n",
    "import warnings\n",
    "warnings.filterwarnings('ignore')"
   ]
  },
  {
   "cell_type": "code",
   "execution_count": null,
   "id": "41b9ed1f",
   "metadata": {},
   "outputs": [],
   "source": [
    "from google.cloud import storage\n",
    "df_train = pd.read_csv('gs://sukanya358/traindata.csv')\n",
    "df_test = pd.read_csv('gs://sukanya358/testdata.csv')"
   ]
  },
  {
   "cell_type": "code",
   "execution_count": null,
   "id": "40ca114c",
   "metadata": {},
   "outputs": [],
   "source": [
    "y_train = df_train['y']\n",
    "y_test = df_test['y']\n",
    "\n",
    "X_train_1 = df_train[['duration']]\n",
    "X_train_2 = df_train[['duration','poutcome']]\n",
    "X_train_3 = df_train[['duration','poutcome','contact']]\n",
    "X_train_4 = df_train[['duration','poutcome','contact','housing']]\n",
    "X_train_5 = df_train[['duration','poutcome','contact','housing','pdays']]\n",
    "X_train_6 = df_train[['duration','poutcome','contact','housing','pdays','previous']]\n",
    "X_train_7 = df_train[['duration','poutcome','contact','housing','pdays','previous','campaign']]\n",
    "X_train_8 = df_train[['duration','poutcome','contact','housing','pdays','previous','campaign','loan']]\n",
    "X_train_9 = df_train[['duration','poutcome','contact','housing','pdays','previous','campaign','loan','marital']]\n",
    "X_test_1 = df_test[['duration']]\n",
    "X_test_2 = df_test[['duration','poutcome']]\n",
    "X_test_3 = df_test[['duration','poutcome','contact']]\n",
    "X_test_4 = df_test[['duration','poutcome','contact','housing']]\n",
    "X_test_5 = df_test[['duration','poutcome','contact','housing','pdays']]\n",
    "X_test_6 = df_test[['duration','poutcome','contact','housing','pdays','previous']]\n",
    "X_test_7 = df_test[['duration','poutcome','contact','housing','pdays','previous','campaign']]\n",
    "X_test_8 = df_test[['duration','poutcome','contact','housing','pdays','previous','campaign','loan']]\n",
    "X_test_9 = df_test[['duration','poutcome','contact','housing','pdays','previous','campaign','loan','marital']]"
   ]
  },
  {
   "cell_type": "code",
   "execution_count": null,
   "id": "18378912",
   "metadata": {},
   "outputs": [],
   "source": [
    "model_1 = LogisticRegression()"
   ]
  },
  {
   "cell_type": "code",
   "execution_count": null,
   "id": "6879b717",
   "metadata": {},
   "outputs": [],
   "source": [
    "model_1.fit(X_train_1, y_train)\n",
    "model_1.score(X_train_1, y_train)"
   ]
  },
  {
   "cell_type": "code",
   "execution_count": null,
   "id": "75bde5ae",
   "metadata": {},
   "outputs": [],
   "source": [
    "plot_confusion_matrix(model_1, X_test_1, y_test, cmap='Oranges', display_labels=['no','yes'])"
   ]
  },
  {
   "cell_type": "code",
   "execution_count": null,
   "id": "0ffdc51d",
   "metadata": {},
   "outputs": [],
   "source": [
    "metrics.accuracy_score(y_test, model_1.predict(X_test_1))"
   ]
  },
  {
   "cell_type": "code",
   "execution_count": null,
   "id": "fed36586",
   "metadata": {},
   "outputs": [],
   "source": [
    "print(metrics.classification_report(y_test, model_1.predict(X_test_1)))"
   ]
  },
  {
   "cell_type": "code",
   "execution_count": null,
   "id": "52dfa5e5",
   "metadata": {},
   "outputs": [],
   "source": [
    "model_1.fit(X_train_2, y_train)\n",
    "model_1.score(X_train_2, y_train)"
   ]
  },
  {
   "cell_type": "code",
   "execution_count": null,
   "id": "8d9d144b",
   "metadata": {},
   "outputs": [],
   "source": [
    "plot_confusion_matrix(model_1, X_test_2, y_test, cmap='Oranges', display_labels=['no','yes'])"
   ]
  },
  {
   "cell_type": "code",
   "execution_count": null,
   "id": "11d540bf",
   "metadata": {},
   "outputs": [],
   "source": [
    "metrics.accuracy_score(y_test, model_1.predict(X_test_2))"
   ]
  },
  {
   "cell_type": "code",
   "execution_count": null,
   "id": "8a9bf81d",
   "metadata": {},
   "outputs": [],
   "source": [
    "print(metrics.classification_report(y_test, model_1.predict(X_test_2)))"
   ]
  },
  {
   "cell_type": "code",
   "execution_count": null,
   "id": "3227f6c4",
   "metadata": {},
   "outputs": [],
   "source": [
    "model_1.fit(X_train_3, y_train)\n",
    "model_1.score(X_train_3, y_train)"
   ]
  },
  {
   "cell_type": "code",
   "execution_count": null,
   "id": "fd852e40",
   "metadata": {},
   "outputs": [],
   "source": [
    "plot_confusion_matrix(model_1, X_test_3, y_test, cmap='Oranges', display_labels=['no','yes'])"
   ]
  },
  {
   "cell_type": "code",
   "execution_count": null,
   "id": "da5a23f2",
   "metadata": {},
   "outputs": [],
   "source": [
    "metrics.accuracy_score(y_test, model_1.predict(X_test_3))"
   ]
  },
  {
   "cell_type": "code",
   "execution_count": null,
   "id": "ce5c69ae",
   "metadata": {},
   "outputs": [],
   "source": [
    "print(metrics.classification_report(y_test, model_1.predict(X_test_3)))"
   ]
  },
  {
   "cell_type": "code",
   "execution_count": null,
   "id": "f18e88e8",
   "metadata": {},
   "outputs": [],
   "source": [
    "model_1.fit(X_train_4, y_train)\n",
    "model_1.score(X_train_4, y_train)"
   ]
  },
  {
   "cell_type": "code",
   "execution_count": null,
   "id": "e8b19c87",
   "metadata": {},
   "outputs": [],
   "source": [
    "plot_confusion_matrix(model_1, X_test_4, y_test, cmap='Oranges', display_labels=['no','yes'])"
   ]
  },
  {
   "cell_type": "code",
   "execution_count": null,
   "id": "5f5b75f5",
   "metadata": {},
   "outputs": [],
   "source": [
    "metrics.accuracy_score(y_test, model_1.predict(X_test_4))"
   ]
  },
  {
   "cell_type": "code",
   "execution_count": null,
   "id": "4c26fe2a",
   "metadata": {},
   "outputs": [],
   "source": [
    "print(metrics.classification_report(y_test, model_1.predict(X_test_4)))"
   ]
  },
  {
   "cell_type": "code",
   "execution_count": null,
   "id": "bd9bcf3c",
   "metadata": {},
   "outputs": [],
   "source": [
    "model_1.fit(X_train_5, y_train)\n",
    "model_1.score(X_train_5, y_train)"
   ]
  },
  {
   "cell_type": "code",
   "execution_count": null,
   "id": "0ea890c6",
   "metadata": {},
   "outputs": [],
   "source": [
    "plot_confusion_matrix(model_1, X_test_5, y_test, cmap='Oranges', display_labels=['no','yes'])"
   ]
  },
  {
   "cell_type": "code",
   "execution_count": null,
   "id": "3b0e7871",
   "metadata": {},
   "outputs": [],
   "source": [
    "metrics.accuracy_score(y_test, model_1.predict(X_test_5))"
   ]
  },
  {
   "cell_type": "code",
   "execution_count": null,
   "id": "1463d535",
   "metadata": {},
   "outputs": [],
   "source": [
    "print(metrics.classification_report(y_test, model_1.predict(X_test_5)))"
   ]
  },
  {
   "cell_type": "code",
   "execution_count": null,
   "id": "3b82fcb5",
   "metadata": {},
   "outputs": [],
   "source": [
    "X_train = X_train_5\n",
    "from statsmodels.stats.outliers_influence import variance_inflation_factor\n",
    "vif = pd.DataFrame()\n",
    "vif['Features'] = X_train.columns\n",
    "vif['VIF'] = [variance_inflation_factor(X_train.values, i) for i in range(X_train.shape[1])]\n",
    "vif['VIF'] = round(vif['VIF'], 2)\n",
    "vif = vif.sort_values(by = \"VIF\", ascending = False)\n",
    "vif"
   ]
  },
  {
   "cell_type": "code",
   "execution_count": null,
   "id": "fb349038",
   "metadata": {},
   "outputs": [],
   "source": [
    "model_1.fit(X_train_6, y_train)\n",
    "model_1.score(X_train_6, y_train)"
   ]
  },
  {
   "cell_type": "code",
   "execution_count": null,
   "id": "30865b2a",
   "metadata": {},
   "outputs": [],
   "source": [
    "plot_confusion_matrix(model_1, X_test_6, y_test, cmap='Oranges', display_labels=['no','yes'])"
   ]
  },
  {
   "cell_type": "code",
   "execution_count": null,
   "id": "08821f90",
   "metadata": {},
   "outputs": [],
   "source": [
    "metrics.accuracy_score(y_test, model_1.predict(X_test_6))"
   ]
  },
  {
   "cell_type": "code",
   "execution_count": null,
   "id": "e7312737",
   "metadata": {},
   "outputs": [],
   "source": [
    "print(metrics.classification_report(y_test, model_1.predict(X_test_6)))"
   ]
  },
  {
   "cell_type": "code",
   "execution_count": 29,
   "id": "a13ae1ed",
   "metadata": {},
   "outputs": [
    {
     "data": {
      "text/plain": [
       "0.8957996947645485"
      ]
     },
     "execution_count": 29,
     "metadata": {},
     "output_type": "execute_result"
    }
   ],
   "source": [
    "model_1.fit(X_train_7, y_train)\n",
    "model_1.score(X_train_7, y_train)"
   ]
  },
  {
   "cell_type": "code",
   "execution_count": 30,
   "id": "315255d6",
   "metadata": {},
   "outputs": [
    {
     "data": {
      "text/plain": [
       "<sklearn.metrics._plot.confusion_matrix.ConfusionMatrixDisplay at 0x7fd88b541850>"
      ]
     },
     "execution_count": 30,
     "metadata": {},
     "output_type": "execute_result"
    },
    {
     "data": {
      "image/png": "[encoded data removed]",
      "text/plain": [
       "<Figure size 432x288 with 2 Axes>"
      ]
     },
     "metadata": {
      "image/png": {
       "height": 261,
       "width": 329
      },
      "needs_background": "light"
     },
     "output_type": "display_data"
    }
   ],
   "source": [
    "plot_confusion_matrix(model_1, X_test_7, y_test, cmap='Oranges', display_labels=['no','yes'])"
   ]
  },
  {
   "cell_type": "code",
   "execution_count": 31,
   "id": "08ca0272",
   "metadata": {},
   "outputs": [
    {
     "data": {
      "text/plain": [
       "0.8953771289537713"
      ]
     },
     "execution_count": 31,
     "metadata": {},
     "output_type": "execute_result"
    }
   ],
   "source": [
    "metrics.accuracy_score(y_test, model_1.predict(X_test_7))"
   ]
  },
  {
   "cell_type": "code",
   "execution_count": 32,
   "id": "c570bea6",
   "metadata": {},
   "outputs": [
    {
     "name": "stdout",
     "output_type": "stream",
     "text": [
      "              precision    recall  f1-score   support\n",
      "\n",
      "           0       0.91      0.98      0.94      4000\n",
      "           1       0.62      0.25      0.35       521\n",
      "\n",
      "    accuracy                           0.90      4521\n",
      "   macro avg       0.76      0.61      0.65      4521\n",
      "weighted avg       0.88      0.90      0.87      4521\n",
      "\n"
     ]
    }
   ],
   "source": [
    "print(metrics.classification_report(y_test, model_1.predict(X_test_7)))"
   ]
  },
  {
   "cell_type": "code",
   "execution_count": null,
   "id": "704062f2",
   "metadata": {},
   "outputs": [],
   "source": [
    "X_train = X_train_5\n",
    "from statsmodels.stats.outliers_influence import variance_inflation_factor\n",
    "vif = pd.DataFrame()\n",
    "vif['Features'] = X_train.columns\n",
    "vif['VIF'] = [variance_inflation_factor(X_train.values, i) for i in range(X_train.shape[1])]\n",
    "vif['VIF'] = round(vif['VIF'], 2)\n",
    "vif = vif.sort_values(by = \"VIF\", ascending = False)\n",
    "vif"
   ]
  }
 ],
 "metadata": {
  "environment": {
   "name": "common-cpu.m69",
   "type": "gcloud",
   "uri": "gcr.io/deeplearning-platform-release/base-cpu:m69"
  },
  "kernelspec": {
   "display_name": "Python 3",
   "language": "python",
   "name": "python3"
  },
  "language_info": {
   "codemirror_mode": {
    "name": "ipython",
    "version": 3
   },
   "file_extension": ".py",
   "mimetype": "text/x-python",
   "name": "python",
   "nbconvert_exporter": "python",
   "pygments_lexer": "ipython3",
   "version": "3.7.10"
  }
 },
 "nbformat": 4,
 "nbformat_minor": 5
}
